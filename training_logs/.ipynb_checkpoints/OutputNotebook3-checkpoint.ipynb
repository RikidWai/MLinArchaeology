{
 "metadata": {
  "colab": {
   "provenance": []
  },
  "kernelspec": {
   "display_name": "Python 3 (ipykernel)",
   "language": "python",
   "name": "python3"
  },
  "language_info": {
   "codemirror_mode": {
    "name": "ipython",
    "version": 3
   },
   "file_extension": ".py",
   "mimetype": "text/x-python",
   "name": "python",
   "nbconvert_exporter": "python",
   "pygments_lexer": "ipython3",
   "version": "3.10.8 (main, Nov 24 2022, 14:13:03) [GCC 11.2.0]"
  },
  "name": "",
  "vscode": {
   "interpreter": {
    "hash": "747988cef31c124137676bd91ec2ee0943a186fd5754fe43b280c71938743ad2"
   }
  },
  "widgets": {
   "application/vnd.jupyter.widget-state+json": {
    "36e9d41f9cc94ca5ab61aaebe47b4aac": {
     "model_module": "@jupyter-widgets/base",
     "model_module_version": "1.2.0",
     "model_name": "LayoutModel",
     "state": {
      "_model_module": "@jupyter-widgets/base",
      "_model_module_version": "1.2.0",
      "_model_name": "LayoutModel",
      "_view_count": null,
      "_view_module": "@jupyter-widgets/base",
      "_view_module_version": "1.2.0",
      "_view_name": "LayoutView",
      "align_content": null,
      "align_items": null,
      "align_self": null,
      "border": null,
      "bottom": null,
      "display": null,
      "flex": null,
      "flex_flow": null,
      "grid_area": null,
      "grid_auto_columns": null,
      "grid_auto_flow": null,
      "grid_auto_rows": null,
      "grid_column": null,
      "grid_gap": null,
      "grid_row": null,
      "grid_template_areas": null,
      "grid_template_columns": null,
      "grid_template_rows": null,
      "height": null,
      "justify_content": null,
      "justify_items": null,
      "left": null,
      "margin": null,
      "max_height": null,
      "max_width": null,
      "min_height": null,
      "min_width": null,
      "object_fit": null,
      "object_position": null,
      "order": null,
      "overflow": null,
      "overflow_x": null,
      "overflow_y": null,
      "padding": null,
      "right": null,
      "top": null,
      "visibility": null,
      "width": null
     }
    },
    "461cd3f97d3f424b9476cec027f6defe": {
     "model_module": "@jupyter-widgets/controls",
     "model_module_version": "1.5.0",
     "model_name": "HBoxModel",
     "state": {
      "_dom_classes": [],
      "_model_module": "@jupyter-widgets/controls",
      "_model_module_version": "1.5.0",
      "_model_name": "HBoxModel",
      "_view_count": null,
      "_view_module": "@jupyter-widgets/controls",
      "_view_module_version": "1.5.0",
      "_view_name": "HBoxView",
      "box_style": "",
      "children": [
       "IPY_MODEL_cb62e47ded2045a69a56852e77b91a31",
       "IPY_MODEL_64cc6c67d2db42dfb8a4c44e04a0c644",
       "IPY_MODEL_f9d887cb57b34c299cdc8010c825d0f9"
      ],
      "layout": "IPY_MODEL_84fb3ba8b908401b9dfab3a5357209f0"
     }
    },
    "5392908116ac48ae8cd9142bc07b98a9": {
     "model_module": "@jupyter-widgets/controls",
     "model_module_version": "1.5.0",
     "model_name": "ProgressStyleModel",
     "state": {
      "_model_module": "@jupyter-widgets/controls",
      "_model_module_version": "1.5.0",
      "_model_name": "ProgressStyleModel",
      "_view_count": null,
      "_view_module": "@jupyter-widgets/base",
      "_view_module_version": "1.2.0",
      "_view_name": "StyleView",
      "bar_color": null,
      "description_width": ""
     }
    },
    "64cc6c67d2db42dfb8a4c44e04a0c644": {
     "model_module": "@jupyter-widgets/controls",
     "model_module_version": "1.5.0",
     "model_name": "FloatProgressModel",
     "state": {
      "_dom_classes": [],
      "_model_module": "@jupyter-widgets/controls",
      "_model_module_version": "1.5.0",
      "_model_name": "FloatProgressModel",
      "_view_count": null,
      "_view_module": "@jupyter-widgets/controls",
      "_view_module_version": "1.5.0",
      "_view_name": "ProgressView",
      "bar_style": "success",
      "description": "",
      "description_tooltip": null,
      "layout": "IPY_MODEL_36e9d41f9cc94ca5ab61aaebe47b4aac",
      "max": 46830571,
      "min": 0,
      "orientation": "horizontal",
      "style": "IPY_MODEL_5392908116ac48ae8cd9142bc07b98a9",
      "value": 46830571
     }
    },
    "76d372d1d9d04557bee3894c750e39d5": {
     "model_module": "@jupyter-widgets/controls",
     "model_module_version": "1.5.0",
     "model_name": "DescriptionStyleModel",
     "state": {
      "_model_module": "@jupyter-widgets/controls",
      "_model_module_version": "1.5.0",
      "_model_name": "DescriptionStyleModel",
      "_view_count": null,
      "_view_module": "@jupyter-widgets/base",
      "_view_module_version": "1.2.0",
      "_view_name": "StyleView",
      "description_width": ""
     }
    },
    "84fb3ba8b908401b9dfab3a5357209f0": {
     "model_module": "@jupyter-widgets/base",
     "model_module_version": "1.2.0",
     "model_name": "LayoutModel",
     "state": {
      "_model_module": "@jupyter-widgets/base",
      "_model_module_version": "1.2.0",
      "_model_name": "LayoutModel",
      "_view_count": null,
      "_view_module": "@jupyter-widgets/base",
      "_view_module_version": "1.2.0",
      "_view_name": "LayoutView",
      "align_content": null,
      "align_items": null,
      "align_self": null,
      "border": null,
      "bottom": null,
      "display": null,
      "flex": null,
      "flex_flow": null,
      "grid_area": null,
      "grid_auto_columns": null,
      "grid_auto_flow": null,
      "grid_auto_rows": null,
      "grid_column": null,
      "grid_gap": null,
      "grid_row": null,
      "grid_template_areas": null,
      "grid_template_columns": null,
      "grid_template_rows": null,
      "height": null,
      "justify_content": null,
      "justify_items": null,
      "left": null,
      "margin": null,
      "max_height": null,
      "max_width": null,
      "min_height": null,
      "min_width": null,
      "object_fit": null,
      "object_position": null,
      "order": null,
      "overflow": null,
      "overflow_x": null,
      "overflow_y": null,
      "padding": null,
      "right": null,
      "top": null,
      "visibility": null,
      "width": null
     }
    },
    "8caa76560a73472c8fbc300906ed4baf": {
     "model_module": "@jupyter-widgets/base",
     "model_module_version": "1.2.0",
     "model_name": "LayoutModel",
     "state": {
      "_model_module": "@jupyter-widgets/base",
      "_model_module_version": "1.2.0",
      "_model_name": "LayoutModel",
      "_view_count": null,
      "_view_module": "@jupyter-widgets/base",
      "_view_module_version": "1.2.0",
      "_view_name": "LayoutView",
      "align_content": null,
      "align_items": null,
      "align_self": null,
      "border": null,
      "bottom": null,
      "display": null,
      "flex": null,
      "flex_flow": null,
      "grid_area": null,
      "grid_auto_columns": null,
      "grid_auto_flow": null,
      "grid_auto_rows": null,
      "grid_column": null,
      "grid_gap": null,
      "grid_row": null,
      "grid_template_areas": null,
      "grid_template_columns": null,
      "grid_template_rows": null,
      "height": null,
      "justify_content": null,
      "justify_items": null,
      "left": null,
      "margin": null,
      "max_height": null,
      "max_width": null,
      "min_height": null,
      "min_width": null,
      "object_fit": null,
      "object_position": null,
      "order": null,
      "overflow": null,
      "overflow_x": null,
      "overflow_y": null,
      "padding": null,
      "right": null,
      "top": null,
      "visibility": null,
      "width": null
     }
    },
    "bf3948a09a2c48e48df4ff6f13b80f9f": {
     "model_module": "@jupyter-widgets/base",
     "model_module_version": "1.2.0",
     "model_name": "LayoutModel",
     "state": {
      "_model_module": "@jupyter-widgets/base",
      "_model_module_version": "1.2.0",
      "_model_name": "LayoutModel",
      "_view_count": null,
      "_view_module": "@jupyter-widgets/base",
      "_view_module_version": "1.2.0",
      "_view_name": "LayoutView",
      "align_content": null,
      "align_items": null,
      "align_self": null,
      "border": null,
      "bottom": null,
      "display": null,
      "flex": null,
      "flex_flow": null,
      "grid_area": null,
      "grid_auto_columns": null,
      "grid_auto_flow": null,
      "grid_auto_rows": null,
      "grid_column": null,
      "grid_gap": null,
      "grid_row": null,
      "grid_template_areas": null,
      "grid_template_columns": null,
      "grid_template_rows": null,
      "height": null,
      "justify_content": null,
      "justify_items": null,
      "left": null,
      "margin": null,
      "max_height": null,
      "max_width": null,
      "min_height": null,
      "min_width": null,
      "object_fit": null,
      "object_position": null,
      "order": null,
      "overflow": null,
      "overflow_x": null,
      "overflow_y": null,
      "padding": null,
      "right": null,
      "top": null,
      "visibility": null,
      "width": null
     }
    },
    "cb62e47ded2045a69a56852e77b91a31": {
     "model_module": "@jupyter-widgets/controls",
     "model_module_version": "1.5.0",
     "model_name": "HTMLModel",
     "state": {
      "_dom_classes": [],
      "_model_module": "@jupyter-widgets/controls",
      "_model_module_version": "1.5.0",
      "_model_name": "HTMLModel",
      "_view_count": null,
      "_view_module": "@jupyter-widgets/controls",
      "_view_module_version": "1.5.0",
      "_view_name": "HTMLView",
      "description": "",
      "description_tooltip": null,
      "layout": "IPY_MODEL_8caa76560a73472c8fbc300906ed4baf",
      "placeholder": "\u200b",
      "style": "IPY_MODEL_d40bf7aa244e4dc5875e9680a46ca70c",
      "value": "100%"
     }
    },
    "d40bf7aa244e4dc5875e9680a46ca70c": {
     "model_module": "@jupyter-widgets/controls",
     "model_module_version": "1.5.0",
     "model_name": "DescriptionStyleModel",
     "state": {
      "_model_module": "@jupyter-widgets/controls",
      "_model_module_version": "1.5.0",
      "_model_name": "DescriptionStyleModel",
      "_view_count": null,
      "_view_module": "@jupyter-widgets/base",
      "_view_module_version": "1.2.0",
      "_view_name": "StyleView",
      "description_width": ""
     }
    },
    "f9d887cb57b34c299cdc8010c825d0f9": {
     "model_module": "@jupyter-widgets/controls",
     "model_module_version": "1.5.0",
     "model_name": "HTMLModel",
     "state": {
      "_dom_classes": [],
      "_model_module": "@jupyter-widgets/controls",
      "_model_module_version": "1.5.0",
      "_model_name": "HTMLModel",
      "_view_count": null,
      "_view_module": "@jupyter-widgets/controls",
      "_view_module_version": "1.5.0",
      "_view_name": "HTMLView",
      "description": "",
      "description_tooltip": null,
      "layout": "IPY_MODEL_bf3948a09a2c48e48df4ff6f13b80f9f",
      "placeholder": "\u200b",
      "style": "IPY_MODEL_76d372d1d9d04557bee3894c750e39d5",
      "value": " 44.7M/44.7M [00:00&lt;00:00, 84.8MB/s]"
     }
    }
   }
  }
 },
 "nbformat": 3,
 "nbformat_minor": 0,
 "worksheets": [
  {
   "cells": [
    {
     "cell_type": "code",
     "collapsed": false,
     "input": [
      "# Basic set up\n",
      "import cv2\n",
      "import numpy as np\n",
      "import pandas as pd\n",
      "\n",
      "import torch\n",
      "import torchvision\n",
      "import torch.nn as nn\n",
      "import torch.optim as optim\n",
      "from torch.optim import lr_scheduler\n",
      "from torch.utils.data import Dataset\n",
      "from torchvision import datasets, transforms, models\n",
      "from torchvision.transforms import ToTensor\n",
      "\n",
      "import os\n",
      "import time\n",
      "import copy\n",
      "\n",
      "# Uncomment if have bugs on GPU\n",
      "# os.environ['CUDA_LAUNCH_BLOCKING'] = \"1\"\n",
      "\n",
      "device = torch.device(\"cuda\") if torch.cuda.is_available() else torch.device(\"cpu\")"
     ],
     "language": "python",
     "metadata": {
      "id": "k3GxxvkL19Nz"
     },
     "outputs": [],
     "prompt_number": 1
    },
    {
     "cell_type": "code",
     "collapsed": false,
     "input": [
      "# ===  Comment these out for local use === \n",
      "# from google.colab import drive\n",
      "# drive.mount('/content/drive')\n",
      "# ===                 ===              ===\n",
      "\n",
      "datadir = '/userhome/2072/fyp22007/data/splitted_processed_data/' # Change to local dir containing training data"
     ],
     "language": "python",
     "metadata": {
      "colab": {
       "base_uri": "https://localhost:8080/"
      },
      "id": "_MFi_M_U3z6A",
      "outputId": "ca1204f3-c0ae-498c-8d2a-d8f3919031fc"
     },
     "outputs": [],
     "prompt_number": 2
    },
    {
     "cell_type": "code",
     "collapsed": false,
     "input": [
      "# Custom dataset inheriting the Pytorch generic Dataset\n",
      "# Use this for higher flexibility, otherwise use ImageFolder for convenience\n",
      "# Can modify the __getitem__ to customize the data structure returned from each sample\n",
      "# Works for single folder containing data of all classes, uses csv_file to retrieve label for each image\n",
      "\n",
      "class SherdDataSet(Dataset):\n",
      "    def __init__(self, csv_file, root_dir, transform=None):\n",
      "      \"\"\"\n",
      "      Args:\n",
      "          csv_file (string): Path to the csv file with (img_path, label) for each row.\n",
      "          root_dir (string): Directory with all the images.\n",
      "          transform (callable, optional): Optional transform to be applied\n",
      "              on a sample.\n",
      "      \"\"\"\n",
      "      self.sherds_frame = pd.read_csv(csv_file)\n",
      "      self.root_dir = root_dir\n",
      "      self.transform = transform\n",
      "\n",
      "    def __len__(self):\n",
      "      return len(self.sherds_frame)\n",
      "\n",
      "    def __getitem__(self, idx):\n",
      "      if torch.is_tensor(idx):\n",
      "          idx = idx.tolist()\n",
      "\n",
      "      img_name = os.path.join(self.root_dir, self.sherds_frame.iloc[idx, 0])\n",
      "      sherd_img = cv2.imread(img_name)\n",
      "      sherd_label = self.sherds_frame.iloc[idx, 1]\n",
      "\n",
      "      if self.transform:\n",
      "          sample = self.transform(sherd_img)\n",
      "\n",
      "      sample = {'image': sherd_img, 'label': sherd_label}\n",
      "\n",
      "      return sample"
     ],
     "language": "python",
     "metadata": {
      "id": "ogggXWEj3ijZ"
     },
     "outputs": [],
     "prompt_number": 3
    },
    {
     "cell_type": "code",
     "collapsed": false,
     "input": [
      "def target_to_oh(target):\n",
      "    NUM_CLASS = 92  # hard code here, can do partial\n",
      "    one_hot = torch.eye(NUM_CLASS)[target]\n",
      "    return one_hot"
     ],
     "language": "python",
     "metadata": {
      "id": "V9pWmUZYfGEm"
     },
     "outputs": [],
     "prompt_number": 4
    },
    {
     "cell_type": "code",
     "collapsed": false,
     "input": [
      "# Loading dataset using default Pytorch ImageFolder\n",
      "# Assumes the data structure shown above classified by label into subfolders\n",
      "\n",
      "# Defines the transformation done to each input data prior to being fed into the model\n",
      "def create_transform(resize_size=None, crop_size=None):\n",
      "  if resize_size and crop_size:\n",
      "    resize_size = resize_size\n",
      "    crop_size = crop_size\n",
      "    # Always ToTensor to be fed into pytorch layers\n",
      "    transform = transforms.Compose([transforms.Resize(resize_size), transforms.CenterCrop(crop_size), transforms.ToTensor(),transforms.Normalize(\n",
      "        mean=[0.485, 0.456, 0.406],\n",
      "        std=[0.229, 0.224, 0.225],\n",
      "    )])\n",
      "    \n",
      "  elif resize_size:\n",
      "    transform = transforms.Compose([transforms.Resize(resize_size),transforms.ToTensor(),transforms.Normalize(\n",
      "        mean=[0.485, 0.456, 0.406],\n",
      "        std=[0.229, 0.224, 0.225],\n",
      "    )])\n",
      "    \n",
      "  elif crop_size:\n",
      "    transform = transforms.Compose([transforms.CenterCrop(crop_size), transforms.ToTensor(),transforms.Normalize(\n",
      "        mean=[0.485, 0.456, 0.406],\n",
      "        std=[0.229, 0.224, 0.225],\n",
      "    ) ])\n",
      "    \n",
      "  else:\n",
      "    transforms.Compose([transforms.ToTensor(),transforms.Normalize(\n",
      "        mean=[0.485, 0.456, 0.406],\n",
      "        std=[0.229, 0.224, 0.225],\n",
      "    )])\n",
      "  return transform\n",
      "\n",
      "ds = torchvision.datasets.ImageFolder(root=os.path.join(datadir, 'train'), transform=create_transform(255, 224))"
     ],
     "language": "python",
     "metadata": {
      "id": "9orR5c5y7Kc5"
     },
     "outputs": [],
     "prompt_number": 5
    },
    {
     "cell_type": "code",
     "collapsed": false,
     "input": [
      "# from google.colab.patches import cv2_imshow\n",
      "import matplotlib.pyplot as plt\n",
      "\n",
      "def inverse_normalize(tensor, mean, std):\n",
      "    for t, m, s in zip(tensor, mean, std):\n",
      "        t.mul_(s).add_(m)\n",
      "    return tensor\n",
      "\n",
      "\n",
      "\n",
      "def imshow(img): \n",
      "  if img.shape[1] >= 1000 and img.shape[1] >= img.shape[0] :\n",
      "    width = 1000\n",
      "    height = int(img.shape[0] * 1000 / img.shape[1])\n",
      "    dim = (width, height)\n",
      "    # # resize image\n",
      "    # resized = cv2.resize(img, dim, interpolation = cv2.INTER_AREA)\n",
      "    img = cv2.resize(img, dim)   \n",
      "  elif img.shape[0] >= 1000 and img.shape[0] >= img.shape[1]:\n",
      "    width = int(img.shape[1] * 1000 / img.shape[0])\n",
      "    height = 1000\n",
      "    dim = (width, height)   \n",
      "    # # resize image\n",
      "    # resized = cv2.resize(img, dim, interpolation = cv2.INTER_AREA)\n",
      "    img = cv2.resize(img, dim)\n",
      "  # cv2_imshow(img)\n",
      "\n",
      "# Shows an image tensor using opencv\n",
      "# Gives all black? How to show properly without plt?\n",
      "def imshow_tensor(img_tensor):\n",
      "  img_tensor = inverse_normalize(tensor=img_tensor, mean=(0.485, 0.456, 0.406), std=(0.229, 0.224, 0.225))\n",
      "  imshow(img_tensor.numpy().transpose(1, 2, 0))\n",
      "\n",
      "\n",
      "def imshow_tensor_plt(img_tensor, ax=None, title=None, normalize=True):\n",
      "  \"\"\"Imshow for Tensor.\"\"\"\n",
      "  if ax is None:\n",
      "      fig, ax = plt.subplots()\n",
      "  img_tensor = img_tensor.numpy().transpose((1, 2, 0))\n",
      "\n",
      "  if normalize:\n",
      "      mean = np.array([0.485, 0.456, 0.406])\n",
      "      std = np.array([0.229, 0.224, 0.225])\n",
      "      img_tensor = std * img_tensor + mean\n",
      "      img_tensor = np.clip(img_tensor, 0, 1)\n",
      "\n",
      "  ax.imshow(img_tensor)\n",
      "  ax.spines['top'].set_visible(False)\n",
      "  ax.spines['right'].set_visible(False)\n",
      "  ax.spines['left'].set_visible(False)\n",
      "  ax.spines['bottom'].set_visible(False)\n",
      "  ax.tick_params(axis='both', length=0)\n",
      "  ax.set_xticklabels('')\n",
      "  ax.set_yticklabels('')\n",
      "\n",
      "  return ax\n",
      "\n",
      "\n",
      "def imshow_list(inp, title=None, normalize=True):\n",
      "    \"\"\"Imshow for Tensor.\"\"\"\n",
      "    inp = inp.numpy().transpose((1, 2, 0))\n",
      "    if normalize:\n",
      "      mean = np.array([0.485, 0.456, 0.406])\n",
      "      std = np.array([0.229, 0.224, 0.225])\n",
      "      inp = std * inp + mean\n",
      "      inp = np.clip(inp, 0, 1)\n",
      "    plt.imshow(inp)\n",
      "    if title is not None:\n",
      "        plt.title(title)\n",
      "    plt.pause(0.001)  # pause a bit so that plots are updated\n"
     ],
     "language": "python",
     "metadata": {
      "id": "OcZeWQG2k-Ve"
     },
     "outputs": [],
     "prompt_number": 6
    },
    {
     "cell_type": "code",
     "collapsed": false,
     "input": [
      "# Loops through dataset\n",
      "count = 0\n",
      "for images, labels in ds:\n",
      "  if count > 10:\n",
      "    break\n",
      "\n",
      "  print(type(images))\n",
      "  print(labels)\n",
      "\n",
      "  count += 1"
     ],
     "language": "python",
     "metadata": {
      "colab": {
       "base_uri": "https://localhost:8080/"
      },
      "id": "EUSPXvytkNSg",
      "outputId": "43558825-3644-4cf8-ef0e-1d908ae19496"
     },
     "outputs": [
      {
       "output_type": "stream",
       "stream": "stdout",
       "text": [
        "<class 'torch.Tensor'>\n",
        "0\n",
        "<class 'torch.Tensor'>\n",
        "0\n",
        "<class 'torch.Tensor'>\n",
        "0\n",
        "<class 'torch.Tensor'>\n",
        "0\n",
        "<class 'torch.Tensor'>\n",
        "0\n",
        "<class 'torch.Tensor'>\n",
        "0\n",
        "<class 'torch.Tensor'>\n",
        "0\n",
        "<class 'torch.Tensor'>\n",
        "0\n",
        "<class 'torch.Tensor'>\n",
        "0\n",
        "<class 'torch.Tensor'>\n",
        "1\n",
        "<class 'torch.Tensor'>\n",
        "1\n"
       ]
      }
     ],
     "prompt_number": 7
    },
    {
     "cell_type": "code",
     "collapsed": false,
     "input": [
      "# Inspect the classes\n",
      "list_of_classes = list(ds.classes)\n",
      "list_of_classes"
     ],
     "language": "python",
     "metadata": {
      "colab": {
       "base_uri": "https://localhost:8080/"
      },
      "id": "_26tiTYQdKgL",
      "outputId": "3c49d781-eae1-4989-d410-b5dcf7652bd2"
     },
     "outputs": [
      {
       "output_type": "pyout",
       "prompt_number": 8,
       "text": [
        "['0',\n",
        " '1',\n",
        " '11',\n",
        " '12',\n",
        " '13',\n",
        " '14',\n",
        " '15',\n",
        " '16',\n",
        " '17',\n",
        " '18',\n",
        " '19',\n",
        " '2',\n",
        " '20',\n",
        " '21',\n",
        " '23',\n",
        " '24',\n",
        " '25',\n",
        " '27',\n",
        " '28',\n",
        " '3',\n",
        " '30',\n",
        " '31',\n",
        " '32',\n",
        " '33',\n",
        " '35',\n",
        " '36',\n",
        " '37',\n",
        " '38',\n",
        " '39',\n",
        " '4',\n",
        " '40',\n",
        " '41',\n",
        " '42',\n",
        " '44',\n",
        " '45',\n",
        " '46',\n",
        " '47',\n",
        " '48',\n",
        " '49',\n",
        " '5',\n",
        " '50',\n",
        " '51',\n",
        " '52',\n",
        " '53',\n",
        " '54',\n",
        " '55',\n",
        " '56',\n",
        " '57',\n",
        " '58',\n",
        " '59',\n",
        " '6',\n",
        " '60',\n",
        " '61',\n",
        " '62',\n",
        " '63',\n",
        " '64',\n",
        " '65',\n",
        " '66',\n",
        " '67',\n",
        " '68',\n",
        " '70',\n",
        " '72',\n",
        " '73',\n",
        " '74',\n",
        " '75',\n",
        " '77',\n",
        " '78',\n",
        " '79',\n",
        " '8',\n",
        " '80',\n",
        " '81',\n",
        " '82',\n",
        " '83',\n",
        " '84',\n",
        " '85',\n",
        " '86',\n",
        " '87',\n",
        " '88',\n",
        " '89',\n",
        " '9',\n",
        " '90',\n",
        " '91']"
       ]
      }
     ],
     "prompt_number": 8
    },
    {
     "cell_type": "code",
     "collapsed": false,
     "input": [
      "dataloader = torch.utils.data.DataLoader(ds, batch_size=2) # Can specify batch_size=1 and shuffle=False\n"
     ],
     "language": "python",
     "metadata": {
      "id": "HwABwGz1f5ZZ"
     },
     "outputs": [],
     "prompt_number": 9
    },
    {
     "cell_type": "code",
     "collapsed": false,
     "input": [
      "# Get one batch\n",
      "images, labels = next(iter(dataloader))\n",
      "imshow_tensor_plt(images[0], normalize=True)"
     ],
     "language": "python",
     "metadata": {
      "colab": {
       "base_uri": "https://localhost:8080/",
       "height": 286
      },
      "id": "tXRk7CH2iBGY",
      "outputId": "f3baa782-aa8a-48ca-d58e-d73a6baef042"
     },
     "outputs": [
      {
       "output_type": "pyout",
       "prompt_number": 10,
       "text": [
        "<AxesSubplot:>"
       ]
      },
      {
       "output_type": "display_data",
       "png": "[encoded data removed]",
       "text": [
        "<Figure size 432x288 with 1 Axes>"
       ]
      }
     ],
     "prompt_number": 10
    },
    {
     "cell_type": "code",
     "collapsed": false,
     "input": [
      "imshow_tensor_plt(images[1], normalize=True)"
     ],
     "language": "python",
     "metadata": {
      "colab": {
       "base_uri": "https://localhost:8080/",
       "height": 286
      },
      "id": "3BQdNlncmSfG",
      "outputId": "5effc619-b606-45f6-a5c8-4ba5e956f90f"
     },
     "outputs": [
      {
       "output_type": "pyout",
       "prompt_number": 11,
       "text": [
        "<AxesSubplot:>"
       ]
      },
      {
       "output_type": "display_data",
       "png": "[encoded data removed]",
       "text": [
        "<Figure size 432x288 with 1 Axes>"
       ]
      }
     ],
     "prompt_number": 11
    },
    {
     "cell_type": "code",
     "collapsed": false,
     "input": [
      "data_dir = '/userhome/2072/fyp22007/data/splitted_processed_data'\n",
      "batch_size = 2\n",
      "\n",
      "\n",
      "\n",
      "# Certain models e.g. Inception v3 requires certain size of images\n",
      "# Skipping normalization here\n",
      "# Assumes data images are all 170x170\n",
      "data_transforms = {\n",
      "    'train': create_transform(crop_size=128),\n",
      "    'val': create_transform(crop_size=128)\n",
      "}\n",
      "\n",
      "# Pytorch losses like CELoss do not required one-hot labels\n",
      "\n",
      "# image_datasets = {x: datasets.ImageFolder(root=os.path.join(data_dir, x),\n",
      "#                   transform=data_transforms[x], target_transform=target_to_oh)\n",
      "#                   for x in ['train', 'val']}\n",
      "\n",
      "\n",
      "image_datasets = {x: datasets.ImageFolder(root=os.path.join(data_dir, x), transform=data_transforms[x]) for x in ['train', 'val']}\n",
      "\n",
      "dataloaders = {x: torch.utils.data.DataLoader(image_datasets[x], batch_size=batch_size,\n",
      "                shuffle=True)\n",
      "                for x in ['train', 'val']}\n",
      "dataset_sizes = {x: len(image_datasets[x]) for x in ['train', 'val']}\n",
      "class_names = image_datasets['train'].classes"
     ],
     "language": "python",
     "metadata": {
      "id": "JoA0rX25ZCLM"
     },
     "outputs": [],
     "prompt_number": 12
    },
    {
     "cell_type": "code",
     "collapsed": false,
     "input": [
      "\n",
      "def train_model(model, criterion, optimizer, scheduler, num_epochs=25):\n",
      "    since = time.time()\n",
      "\n",
      "    train_loss_history = []\n",
      "    val_loss_history = []\n",
      "    train_acc_history = []\n",
      "    val_acc_history = []\n",
      "\n",
      "    best_model_wts = copy.deepcopy(model.state_dict())\n",
      "    best_acc = 0.0\n",
      "\n",
      "    for epoch in range(num_epochs):\n",
      "        print(f'Epoch {epoch}/{num_epochs - 1}')\n",
      "        print('-' * 10)\n",
      "\n",
      "        # Each epoch has a training and validation phase\n",
      "        for phase in ['train', 'val']:\n",
      "            # Modes determine activation of dropout layers\n",
      "            if phase == 'train':\n",
      "                model.train()  # Set model to training mode\n",
      "            else:\n",
      "                model.eval()   # Set model to evaluate mode\n",
      "\n",
      "            running_loss = 0.0\n",
      "            running_corrects = 0\n",
      "\n",
      "            # Iterate over data.\n",
      "            for inputs, labels in dataloaders[phase]:\n",
      "                inputs = inputs.to(device)\n",
      "                labels = labels.to(device)\n",
      "\n",
      "                # clear the parameter gradients\n",
      "                optimizer.zero_grad()\n",
      "\n",
      "                # forward\n",
      "                # track history if only in train\n",
      "                with torch.set_grad_enabled(phase == 'train'):\n",
      "                    outputs = model(inputs) # logits of shape (N, C) where N is batch size, C is # classes\n",
      "                    _, preds = torch.max(outputs, 1)\n",
      "                    loss = criterion(outputs, labels) # if CELoss: outputs=unnormalized logits; labels=class indices vector of shape (N)\n",
      "\n",
      "                    # backward + optimize only if in training phase\n",
      "                    if phase == 'train':\n",
      "                        loss.backward()\n",
      "                        optimizer.step()\n",
      "\n",
      "                # statistics\n",
      "                running_loss += loss.item() * inputs.size(0) # if CELoss: loss is scalar from logSoftmax and NLLLoss\n",
      "                running_corrects += torch.sum(preds == labels.data)\n",
      "            if phase == 'train':\n",
      "                scheduler.step() # Decays learning rate. If not using scheduler, replace with optimizer.step()\n",
      "\n",
      "            epoch_loss = running_loss / dataset_sizes[phase]\n",
      "            epoch_acc = running_corrects.double() / dataset_sizes[phase]\n",
      "\n",
      "            print(f'{phase} Loss: {epoch_loss:.4f} Acc: {epoch_acc:.4f}')\n",
      "\n",
      "            # deep copy the model\n",
      "            if phase == 'val' and epoch_acc > best_acc:\n",
      "                best_acc = epoch_acc\n",
      "                best_model_wts = copy.deepcopy(model.state_dict())\n",
      "            if phase == 'val':\n",
      "                val_loss_history.append(epoch_loss)\n",
      "                val_acc_history.append(epoch_acc)\n",
      "            else:\n",
      "                train_loss_history.append(epoch_loss)\n",
      "                train_acc_history.append(epoch_acc)\n",
      "\n",
      "\n",
      "        print()\n",
      "\n",
      "    time_elapsed = time.time() - since\n",
      "    print(f'Training complete in {time_elapsed // 60:.0f}m {time_elapsed % 60:.0f}s')\n",
      "    print(f'Best val Acc: {best_acc:4f}')\n",
      "\n",
      "    # load best model weights\n",
      "    model.load_state_dict(best_model_wts)\n",
      "\n",
      "\n",
      "    histories = (train_loss_history, val_loss_history, train_acc_history, val_acc_history)\n",
      "    return model, histories\n",
      "\n",
      "# TODO: Write test function\n",
      "# Remember to set model.eval()\n",
      "# and use with torch.no_grad():\n",
      "\n",
      "def test_model(model, num_samples):\n",
      "\n",
      "\n",
      "    testset = datasets.ImageFolder(root=os.path.join(data_dir, 'test'), transform=create_transform(crop_size=128))\n",
      "    testloader = torch.utils.data.DataLoader(testset, batch_size=batch_size,\n",
      "                shuffle=True)\n",
      "\n",
      "    correct = 0\n",
      "    total = 0\n",
      "    samples_used = 0\n",
      "  \n",
      "    was_training = model.training\n",
      "    model.eval()\n",
      "\n",
      "    # since we're not training, we don't need to calculate the gradients for our outputs\n",
      "    with torch.no_grad():\n",
      "        for i, (inputs, labels) in enumerate(testloader):\n",
      "            inputs = inputs.to(device)\n",
      "            labels = labels.to(device)\n",
      "\n",
      "            outputs = model(inputs)\n",
      "            _, preds = torch.max(outputs, 1)\n",
      "\n",
      "            total += labels.size(0)\n",
      "            correct += (preds == labels).sum().item()\n",
      "\n",
      "            for j in range(inputs.size()[0]):\n",
      "                samples_used += 1\n",
      "                row_num = max(num_samples//2, 1)\n",
      "                ax = plt.subplot(row_num, 3, samples_used)\n",
      "                ax.axis('off')\n",
      "                ax.set_title(f'predicted: {class_names[preds[j]]}')\n",
      "\n",
      "                imshow_list(inputs.cpu().data[j], normalize=False)\n",
      "\n",
      "                if samples_used >= num_samples:\n",
      "                    model.train(mode=was_training)\n",
      "                    print(f'Accuracy on test images: {100 * correct // total} %')\n",
      "                    return\n",
      "\n",
      "        model.train(mode=was_training)\n",
      "\n",
      "    print(f'Accuracy on test images: {100 * correct // total} %')\n",
      "\n",
      "\n"
     ],
     "language": "python",
     "metadata": {
      "id": "f4yeSCK2pP82"
     },
     "outputs": [],
     "prompt_number": 13
    },
    {
     "cell_type": "code",
     "collapsed": false,
     "input": [
      "'''\n",
      "ResNet18 last layer:\n",
      "(fc): Linear(in_features=512, out_features=1000, bias=True)\n",
      "\n",
      "Reinitialize last layer with number of classes:\n",
      "model.fc = nn.Linear(512, num_classes)\n",
      "\n",
      "\n",
      "'''\n",
      "# Initialize Resnet18 model for finetuning\n",
      "\n",
      "model_ft = models.resnet18(pretrained=True)\n",
      "num_ftrs = model_ft.fc.in_features\n",
      "# Here the size of each output sample is set to len(class_names) i.e. number of classes.\n",
      "model_ft.fc = nn.Linear(num_ftrs, len(class_names))\n",
      "\n",
      "model_ft = model_ft.to(device)\n",
      "\n",
      "# Compares unnormalized logits and vector of label indices\n",
      "criterion = nn.CrossEntropyLoss()\n",
      "\n",
      "# All parameters are being optimized\n",
      "optimizer_ft = optim.SGD(model_ft.parameters(), lr=0.001, momentum=0.9)\n",
      "\n",
      "# Decay LR by a factor of 0.1 every 7 epochs\n",
      "exp_lr_scheduler = lr_scheduler.StepLR(optimizer_ft, step_size=7, gamma=0.1)\n"
     ],
     "language": "python",
     "metadata": {
      "colab": {
       "base_uri": "https://localhost:8080/",
       "height": 152,
       "referenced_widgets": [
        "461cd3f97d3f424b9476cec027f6defe",
        "cb62e47ded2045a69a56852e77b91a31",
        "64cc6c67d2db42dfb8a4c44e04a0c644",
        "f9d887cb57b34c299cdc8010c825d0f9",
        "84fb3ba8b908401b9dfab3a5357209f0",
        "8caa76560a73472c8fbc300906ed4baf",
        "d40bf7aa244e4dc5875e9680a46ca70c",
        "36e9d41f9cc94ca5ab61aaebe47b4aac",
        "5392908116ac48ae8cd9142bc07b98a9",
        "bf3948a09a2c48e48df4ff6f13b80f9f",
        "76d372d1d9d04557bee3894c750e39d5"
       ]
      },
      "id": "MOScLb0nQPhi",
      "outputId": "3774f184-7e5d-4b60-b52c-f1810c4f6907"
     },
     "outputs": [
      {
       "output_type": "stream",
       "stream": "stderr",
       "text": [
        "/userhome/2072/fyp22007/anaconda3/lib/python3.8/site-packages/torchvision/models/_utils.py:208: UserWarning: The parameter 'pretrained' is deprecated since 0.13 and may be removed in the future, please use 'weights' instead.\n",
        "  warnings.warn(\n",
        "/userhome/2072/fyp22007/anaconda3/lib/python3.8/site-packages/torchvision/models/_utils.py:223: UserWarning: Arguments other than a weight enum or `None` for 'weights' are deprecated since 0.13 and may be removed in the future. The current behavior is equivalent to passing `weights=ResNet18_Weights.IMAGENET1K_V1`. You can also use `weights=ResNet18_Weights.DEFAULT` to get the most up-to-date weights.\n",
        "  warnings.warn(msg)\n"
       ]
      }
     ],
     "prompt_number": 14
    },
    {
     "cell_type": "code",
     "collapsed": false,
     "input": [
      "# Actual Training\n",
      "\n",
      "# model_ft needs to be properly initialized first, same structure as the one initialized before training\n",
      "model_ft.load_state_dict(torch.load('weights/resnet18_model_weights.pth'))\n",
      "model_ft_trained, histories = train_model(model_ft, criterion, optimizer_ft, exp_lr_scheduler, num_epochs=50)\n",
      "torch.save(model_ft_trained.state_dict(), 'weights/resnet18_model_weights.pth')"
     ],
     "language": "python",
     "metadata": {
      "colab": {
       "base_uri": "https://localhost:8080/"
      },
      "id": "u9Foiq1cSqpT",
      "outputId": "35b9e212-bc5a-4c21-eb1e-3d17fe38b6e8"
     },
     "outputs": [
      {
       "output_type": "stream",
       "stream": "stdout",
       "text": [
        "Epoch 0/49\n",
        "----------\n"
       ]
      },
      {
       "output_type": "stream",
       "stream": "stdout",
       "text": [
        "train Loss: 2.4412 Acc: 0.3540\n"
       ]
      },
      {
       "output_type": "stream",
       "stream": "stdout",
       "text": [
        "val Loss: 3.8291 Acc: 0.1964\n",
        "\n",
        "Epoch 1/49\n",
        "----------\n"
       ]
      },
      {
       "output_type": "stream",
       "stream": "stdout",
       "text": [
        "train Loss: 2.2113 Acc: 0.4163\n"
       ]
      },
      {
       "output_type": "stream",
       "stream": "stdout",
       "text": [
        "val Loss: 4.0757 Acc: 0.1868\n",
        "\n",
        "Epoch 2/49\n",
        "----------\n"
       ]
      },
      {
       "output_type": "stream",
       "stream": "stdout",
       "text": [
        "train Loss: 1.9081 Acc: 0.4952\n"
       ]
      },
      {
       "output_type": "stream",
       "stream": "stdout",
       "text": [
        "val Loss: 4.8663 Acc: 0.1859\n",
        "\n",
        "Epoch 3/49\n",
        "----------\n"
       ]
      },
      {
       "output_type": "stream",
       "stream": "stdout",
       "text": [
        "train Loss: 1.6642 Acc: 0.5605\n"
       ]
      },
      {
       "output_type": "stream",
       "stream": "stdout",
       "text": [
        "val Loss: 4.4090 Acc: 0.2221\n",
        "\n",
        "Epoch 4/49\n",
        "----------\n"
       ]
      },
      {
       "output_type": "stream",
       "stream": "stdout",
       "text": [
        "train Loss: 1.3941 Acc: 0.6296\n"
       ]
      },
      {
       "output_type": "stream",
       "stream": "stdout",
       "text": [
        "val Loss: 4.7580 Acc: 0.1830\n",
        "\n",
        "Epoch 5/49\n",
        "----------\n"
       ]
      },
      {
       "output_type": "stream",
       "stream": "stdout",
       "text": [
        "train Loss: 1.1023 Acc: 0.7046\n"
       ]
      },
      {
       "output_type": "stream",
       "stream": "stdout",
       "text": [
        "val Loss: 5.4452 Acc: 0.2059\n",
        "\n",
        "Epoch 6/49\n",
        "----------\n"
       ]
      },
      {
       "output_type": "stream",
       "stream": "stdout",
       "text": [
        "train Loss: 0.8818 Acc: 0.7649\n"
       ]
      },
      {
       "output_type": "stream",
       "stream": "stdout",
       "text": [
        "val Loss: 5.3643 Acc: 0.1745\n",
        "\n",
        "Epoch 7/49\n",
        "----------\n"
       ]
      },
      {
       "output_type": "stream",
       "stream": "stdout",
       "text": [
        "train Loss: 0.5235 Acc: 0.8676\n"
       ]
      },
      {
       "output_type": "stream",
       "stream": "stdout",
       "text": [
        "val Loss: 4.6102 Acc: 0.2440\n",
        "\n",
        "Epoch 8/49\n",
        "----------\n"
       ]
      },
      {
       "output_type": "stream",
       "stream": "stdout",
       "text": [
        "train Loss: 0.3769 Acc: 0.9101\n"
       ]
      },
      {
       "output_type": "stream",
       "stream": "stdout",
       "text": [
        "val Loss: 4.5451 Acc: 0.2259\n",
        "\n",
        "Epoch 9/49\n",
        "----------\n"
       ]
      },
      {
       "output_type": "stream",
       "stream": "stdout",
       "text": [
        "train Loss: 0.3165 Acc: 0.9258\n"
       ]
      },
      {
       "output_type": "stream",
       "stream": "stdout",
       "text": [
        "val Loss: 4.8614 Acc: 0.2259\n",
        "\n",
        "Epoch 10/49\n",
        "----------\n"
       ]
      },
      {
       "output_type": "stream",
       "stream": "stdout",
       "text": [
        "train Loss: 0.2895 Acc: 0.9335\n"
       ]
      },
      {
       "output_type": "stream",
       "stream": "stdout",
       "text": [
        "val Loss: 4.7900 Acc: 0.2278\n",
        "\n",
        "Epoch 11/49\n",
        "----------\n"
       ]
      },
      {
       "output_type": "stream",
       "stream": "stdout",
       "text": [
        "train Loss: 0.2518 Acc: 0.9414\n"
       ]
      },
      {
       "output_type": "stream",
       "stream": "stdout",
       "text": [
        "val Loss: 4.7190 Acc: 0.2517\n",
        "\n",
        "Epoch 12/49\n",
        "----------\n"
       ]
      },
      {
       "output_type": "stream",
       "stream": "stdout",
       "text": [
        "train Loss: 0.2517 Acc: 0.9443\n"
       ]
      },
      {
       "output_type": "stream",
       "stream": "stdout",
       "text": [
        "val Loss: 4.5267 Acc: 0.2431\n",
        "\n",
        "Epoch 13/49\n",
        "----------\n"
       ]
      },
      {
       "output_type": "stream",
       "stream": "stdout",
       "text": [
        "train Loss: 0.2357 Acc: 0.9464\n"
       ]
      },
      {
       "output_type": "stream",
       "stream": "stdout",
       "text": [
        "val Loss: 4.7448 Acc: 0.2278\n",
        "\n",
        "Epoch 14/49\n",
        "----------\n"
       ]
      },
      {
       "output_type": "stream",
       "stream": "stdout",
       "text": [
        "train Loss: 0.2067 Acc: 0.9563\n"
       ]
      },
      {
       "output_type": "stream",
       "stream": "stdout",
       "text": [
        "val Loss: 4.4642 Acc: 0.2431\n",
        "\n",
        "Epoch 15/49\n",
        "----------\n"
       ]
      },
      {
       "output_type": "stream",
       "stream": "stdout",
       "text": [
        "train Loss: 0.2131 Acc: 0.9535\n"
       ]
      },
      {
       "output_type": "stream",
       "stream": "stdout",
       "text": [
        "val Loss: 4.5982 Acc: 0.2269\n",
        "\n",
        "Epoch 16/49\n",
        "----------\n"
       ]
      },
      {
       "output_type": "stream",
       "stream": "stdout",
       "text": [
        "train Loss: 0.2004 Acc: 0.9584\n"
       ]
      },
      {
       "output_type": "stream",
       "stream": "stdout",
       "text": [
        "val Loss: 4.6917 Acc: 0.2450\n",
        "\n",
        "Epoch 17/49\n",
        "----------\n"
       ]
      },
      {
       "output_type": "stream",
       "stream": "stdout",
       "text": [
        "train Loss: 0.2076 Acc: 0.9564\n"
       ]
      },
      {
       "output_type": "stream",
       "stream": "stdout",
       "text": [
        "val Loss: 4.6798 Acc: 0.2402\n",
        "\n",
        "Epoch 18/49\n",
        "----------\n"
       ]
      },
      {
       "output_type": "stream",
       "stream": "stdout",
       "text": [
        "train Loss: 0.2013 Acc: 0.9580\n"
       ]
      },
      {
       "output_type": "stream",
       "stream": "stdout",
       "text": [
        "val Loss: 4.5610 Acc: 0.2393\n",
        "\n",
        "Epoch 19/49\n",
        "----------\n"
       ]
      },
      {
       "output_type": "stream",
       "stream": "stdout",
       "text": [
        "train Loss: 0.2000 Acc: 0.9594\n"
       ]
      },
      {
       "output_type": "stream",
       "stream": "stdout",
       "text": [
        "val Loss: 4.5106 Acc: 0.2526\n",
        "\n",
        "Epoch 20/49\n",
        "----------\n"
       ]
      },
      {
       "output_type": "stream",
       "stream": "stdout",
       "text": [
        "train Loss: 0.1903 Acc: 0.9607\n"
       ]
      },
      {
       "output_type": "stream",
       "stream": "stdout",
       "text": [
        "val Loss: 4.7559 Acc: 0.2431\n",
        "\n",
        "Epoch 21/49\n",
        "----------\n"
       ]
      },
      {
       "output_type": "stream",
       "stream": "stdout",
       "text": [
        "train Loss: 0.1919 Acc: 0.9595\n"
       ]
      },
      {
       "output_type": "stream",
       "stream": "stdout",
       "text": [
        "val Loss: 4.8196 Acc: 0.2364\n",
        "\n",
        "Epoch 22/49\n",
        "----------\n"
       ]
      },
      {
       "output_type": "stream",
       "stream": "stdout",
       "text": [
        "train Loss: 0.1999 Acc: 0.9584\n"
       ]
      },
      {
       "output_type": "stream",
       "stream": "stdout",
       "text": [
        "val Loss: 4.6379 Acc: 0.2316\n",
        "\n",
        "Epoch 23/49\n",
        "----------\n"
       ]
      },
      {
       "output_type": "stream",
       "stream": "stdout",
       "text": [
        "train Loss: 0.1972 Acc: 0.9567\n"
       ]
      },
      {
       "output_type": "stream",
       "stream": "stdout",
       "text": [
        "val Loss: 4.5221 Acc: 0.2526\n",
        "\n",
        "Epoch 24/49\n",
        "----------\n"
       ]
      },
      {
       "output_type": "stream",
       "stream": "stdout",
       "text": [
        "train Loss: 0.2053 Acc: 0.9567\n"
       ]
      },
      {
       "output_type": "stream",
       "stream": "stdout",
       "text": [
        "val Loss: 4.5819 Acc: 0.2431\n",
        "\n",
        "Epoch 25/49\n",
        "----------\n"
       ]
      },
      {
       "output_type": "stream",
       "stream": "stdout",
       "text": [
        "train Loss: 0.1897 Acc: 0.9602\n"
       ]
      },
      {
       "output_type": "stream",
       "stream": "stdout",
       "text": [
        "val Loss: 4.5683 Acc: 0.2488\n",
        "\n",
        "Epoch 26/49\n",
        "----------\n"
       ]
      },
      {
       "output_type": "stream",
       "stream": "stdout",
       "text": [
        "train Loss: 0.2014 Acc: 0.9588\n"
       ]
      },
      {
       "output_type": "stream",
       "stream": "stdout",
       "text": [
        "val Loss: 4.7613 Acc: 0.2297\n",
        "\n",
        "Epoch 27/49\n",
        "----------\n"
       ]
      },
      {
       "output_type": "stream",
       "stream": "stdout",
       "text": [
        "train Loss: 0.1943 Acc: 0.9593\n"
       ]
      },
      {
       "output_type": "stream",
       "stream": "stdout",
       "text": [
        "val Loss: 4.5526 Acc: 0.2450\n",
        "\n",
        "Epoch 28/49\n",
        "----------\n"
       ]
      },
      {
       "output_type": "stream",
       "stream": "stdout",
       "text": [
        "train Loss: 0.2070 Acc: 0.9551\n"
       ]
      },
      {
       "output_type": "stream",
       "stream": "stdout",
       "text": [
        "val Loss: 4.5652 Acc: 0.2364\n",
        "\n",
        "Epoch 29/49\n",
        "----------\n"
       ]
      },
      {
       "output_type": "stream",
       "stream": "stdout",
       "text": [
        "train Loss: 0.1947 Acc: 0.9604\n"
       ]
      },
      {
       "output_type": "stream",
       "stream": "stdout",
       "text": [
        "val Loss: 4.5702 Acc: 0.2374\n",
        "\n",
        "Epoch 30/49\n",
        "----------\n"
       ]
      },
      {
       "output_type": "stream",
       "stream": "stdout",
       "text": [
        "train Loss: 0.2030 Acc: 0.9564\n"
       ]
      },
      {
       "output_type": "stream",
       "stream": "stdout",
       "text": [
        "val Loss: 4.4558 Acc: 0.2545\n",
        "\n",
        "Epoch 31/49\n",
        "----------\n"
       ]
      },
      {
       "output_type": "stream",
       "stream": "stdout",
       "text": [
        "train Loss: 0.1943 Acc: 0.9601\n"
       ]
      },
      {
       "output_type": "stream",
       "stream": "stdout",
       "text": [
        "val Loss: 4.6135 Acc: 0.2412\n",
        "\n",
        "Epoch 32/49\n",
        "----------\n"
       ]
      },
      {
       "output_type": "stream",
       "stream": "stdout",
       "text": [
        "train Loss: 0.2079 Acc: 0.9566\n"
       ]
      },
      {
       "output_type": "stream",
       "stream": "stdout",
       "text": [
        "val Loss: 4.7128 Acc: 0.2269\n",
        "\n",
        "Epoch 33/49\n",
        "----------\n"
       ]
      },
      {
       "output_type": "stream",
       "stream": "stdout",
       "text": [
        "train Loss: 0.1972 Acc: 0.9589\n"
       ]
      },
      {
       "output_type": "stream",
       "stream": "stdout",
       "text": [
        "val Loss: 4.7031 Acc: 0.2431\n",
        "\n",
        "Epoch 34/49\n",
        "----------\n"
       ]
      },
      {
       "output_type": "stream",
       "stream": "stdout",
       "text": [
        "train Loss: 0.2002 Acc: 0.9567\n"
       ]
      },
      {
       "output_type": "stream",
       "stream": "stdout",
       "text": [
        "val Loss: 4.6242 Acc: 0.2469\n",
        "\n",
        "Epoch 35/49\n",
        "----------\n"
       ]
      },
      {
       "output_type": "stream",
       "stream": "stdout",
       "text": [
        "train Loss: 0.2019 Acc: 0.9559\n"
       ]
      },
      {
       "output_type": "stream",
       "stream": "stdout",
       "text": [
        "val Loss: 4.5976 Acc: 0.2555\n",
        "\n",
        "Epoch 36/49\n",
        "----------\n"
       ]
      },
      {
       "output_type": "stream",
       "stream": "stdout",
       "text": [
        "train Loss: 0.1950 Acc: 0.9585\n"
       ]
      },
      {
       "output_type": "stream",
       "stream": "stdout",
       "text": [
        "val Loss: 4.5766 Acc: 0.2517\n",
        "\n",
        "Epoch 37/49\n",
        "----------\n"
       ]
      },
      {
       "output_type": "stream",
       "stream": "stdout",
       "text": [
        "train Loss: 0.1967 Acc: 0.9586\n"
       ]
      },
      {
       "output_type": "stream",
       "stream": "stdout",
       "text": [
        "val Loss: 4.5895 Acc: 0.2355\n",
        "\n",
        "Epoch 38/49\n",
        "----------\n"
       ]
      },
      {
       "output_type": "stream",
       "stream": "stdout",
       "text": [
        "train Loss: 0.1986 Acc: 0.9561\n"
       ]
      },
      {
       "output_type": "stream",
       "stream": "stdout",
       "text": [
        "val Loss: 4.7282 Acc: 0.2326\n",
        "\n",
        "Epoch 39/49\n",
        "----------\n"
       ]
      },
      {
       "output_type": "stream",
       "stream": "stdout",
       "text": [
        "train Loss: 0.1901 Acc: 0.9594\n"
       ]
      },
      {
       "output_type": "stream",
       "stream": "stdout",
       "text": [
        "val Loss: 4.6759 Acc: 0.2402\n",
        "\n",
        "Epoch 40/49\n",
        "----------\n"
       ]
      },
      {
       "output_type": "stream",
       "stream": "stdout",
       "text": [
        "train Loss: 0.1941 Acc: 0.9579\n"
       ]
      },
      {
       "output_type": "stream",
       "stream": "stdout",
       "text": [
        "val Loss: 4.7254 Acc: 0.2374\n",
        "\n",
        "Epoch 41/49\n",
        "----------\n"
       ]
      },
      {
       "output_type": "stream",
       "stream": "stdout",
       "text": [
        "train Loss: 0.1931 Acc: 0.9581\n"
       ]
      },
      {
       "output_type": "stream",
       "stream": "stdout",
       "text": [
        "val Loss: 4.7144 Acc: 0.2345\n",
        "\n",
        "Epoch 42/49\n",
        "----------\n"
       ]
      },
      {
       "output_type": "stream",
       "stream": "stdout",
       "text": [
        "train Loss: 0.1916 Acc: 0.9613\n"
       ]
      },
      {
       "output_type": "stream",
       "stream": "stdout",
       "text": [
        "val Loss: 4.6703 Acc: 0.2421\n",
        "\n",
        "Epoch 43/49\n",
        "----------\n"
       ]
      },
      {
       "output_type": "stream",
       "stream": "stdout",
       "text": [
        "train Loss: 0.1904 Acc: 0.9594\n"
       ]
      },
      {
       "output_type": "stream",
       "stream": "stdout",
       "text": [
        "val Loss: 4.5249 Acc: 0.2564\n",
        "\n",
        "Epoch 44/49\n",
        "----------\n"
       ]
      },
      {
       "output_type": "stream",
       "stream": "stdout",
       "text": [
        "train Loss: 0.1966 Acc: 0.9625\n"
       ]
      },
      {
       "output_type": "stream",
       "stream": "stdout",
       "text": [
        "val Loss: 4.5226 Acc: 0.2459\n",
        "\n",
        "Epoch 45/49\n",
        "----------\n"
       ]
      },
      {
       "output_type": "stream",
       "stream": "stdout",
       "text": [
        "train Loss: 0.1962 Acc: 0.9598\n"
       ]
      },
      {
       "output_type": "stream",
       "stream": "stdout",
       "text": [
        "val Loss: 4.6578 Acc: 0.2269\n",
        "\n",
        "Epoch 46/49\n",
        "----------\n"
       ]
      },
      {
       "output_type": "stream",
       "stream": "stdout",
       "text": [
        "train Loss: 0.1935 Acc: 0.9599\n"
       ]
      },
      {
       "output_type": "stream",
       "stream": "stdout",
       "text": [
        "val Loss: 4.5446 Acc: 0.2393\n",
        "\n",
        "Epoch 47/49\n",
        "----------\n"
       ]
      },
      {
       "output_type": "stream",
       "stream": "stdout",
       "text": [
        "train Loss: 0.1938 Acc: 0.9611\n"
       ]
      },
      {
       "output_type": "stream",
       "stream": "stdout",
       "text": [
        "val Loss: 4.6955 Acc: 0.2326\n",
        "\n",
        "Epoch 48/49\n",
        "----------\n"
       ]
      },
      {
       "output_type": "stream",
       "stream": "stdout",
       "text": [
        "train Loss: 0.1989 Acc: 0.9595\n"
       ]
      },
      {
       "output_type": "stream",
       "stream": "stdout",
       "text": [
        "val Loss: 4.6634 Acc: 0.2450\n",
        "\n",
        "Epoch 49/49\n",
        "----------\n"
       ]
      },
      {
       "output_type": "stream",
       "stream": "stdout",
       "text": [
        "train Loss: 0.1970 Acc: 0.9567\n"
       ]
      },
      {
       "output_type": "stream",
       "stream": "stdout",
       "text": [
        "val Loss: 4.5867 Acc: 0.2316\n",
        "\n",
        "Training complete in 194m 6s\n",
        "Best val Acc: 0.256435\n"
       ]
      }
     ],
     "prompt_number": 15
    },
    {
     "cell_type": "code",
     "collapsed": false,
     "input": [
      "print(model_ft_trained)"
     ],
     "language": "python",
     "metadata": {
      "id": "A8QmL_UV9VtB"
     },
     "outputs": [
      {
       "output_type": "stream",
       "stream": "stdout",
       "text": [
        "ResNet(\n",
        "  (conv1): Conv2d(3, 64, kernel_size=(7, 7), stride=(2, 2), padding=(3, 3), bias=False)\n",
        "  (bn1): BatchNorm2d(64, eps=1e-05, momentum=0.1, affine=True, track_running_stats=True)\n",
        "  (relu): ReLU(inplace=True)\n",
        "  (maxpool): MaxPool2d(kernel_size=3, stride=2, padding=1, dilation=1, ceil_mode=False)\n",
        "  (layer1): Sequential(\n",
        "    (0): BasicBlock(\n",
        "      (conv1): Conv2d(64, 64, kernel_size=(3, 3), stride=(1, 1), padding=(1, 1), bias=False)\n",
        "      (bn1): BatchNorm2d(64, eps=1e-05, momentum=0.1, affine=True, track_running_stats=True)\n",
        "      (relu): ReLU(inplace=True)\n",
        "      (conv2): Conv2d(64, 64, kernel_size=(3, 3), stride=(1, 1), padding=(1, 1), bias=False)\n",
        "      (bn2): BatchNorm2d(64, eps=1e-05, momentum=0.1, affine=True, track_running_stats=True)\n",
        "    )\n",
        "    (1): BasicBlock(\n",
        "      (conv1): Conv2d(64, 64, kernel_size=(3, 3), stride=(1, 1), padding=(1, 1), bias=False)\n",
        "      (bn1): BatchNorm2d(64, eps=1e-05, momentum=0.1, affine=True, track_running_stats=True)\n",
        "      (relu): ReLU(inplace=True)\n",
        "      (conv2): Conv2d(64, 64, kernel_size=(3, 3), stride=(1, 1), padding=(1, 1), bias=False)\n",
        "      (bn2): BatchNorm2d(64, eps=1e-05, momentum=0.1, affine=True, track_running_stats=True)\n",
        "    )\n",
        "  )\n",
        "  (layer2): Sequential(\n",
        "    (0): BasicBlock(\n",
        "      (conv1): Conv2d(64, 128, kernel_size=(3, 3), stride=(2, 2), padding=(1, 1), bias=False)\n",
        "      (bn1): BatchNorm2d(128, eps=1e-05, momentum=0.1, affine=True, track_running_stats=True)\n",
        "      (relu): ReLU(inplace=True)\n",
        "      (conv2): Conv2d(128, 128, kernel_size=(3, 3), stride=(1, 1), padding=(1, 1), bias=False)\n",
        "      (bn2): BatchNorm2d(128, eps=1e-05, momentum=0.1, affine=True, track_running_stats=True)\n",
        "      (downsample): Sequential(\n",
        "        (0): Conv2d(64, 128, kernel_size=(1, 1), stride=(2, 2), bias=False)\n",
        "        (1): BatchNorm2d(128, eps=1e-05, momentum=0.1, affine=True, track_running_stats=True)\n",
        "      )\n",
        "    )\n",
        "    (1): BasicBlock(\n",
        "      (conv1): Conv2d(128, 128, kernel_size=(3, 3), stride=(1, 1), padding=(1, 1), bias=False)\n",
        "      (bn1): BatchNorm2d(128, eps=1e-05, momentum=0.1, affine=True, track_running_stats=True)\n",
        "      (relu): ReLU(inplace=True)\n",
        "      (conv2): Conv2d(128, 128, kernel_size=(3, 3), stride=(1, 1), padding=(1, 1), bias=False)\n",
        "      (bn2): BatchNorm2d(128, eps=1e-05, momentum=0.1, affine=True, track_running_stats=True)\n",
        "    )\n",
        "  )\n",
        "  (layer3): Sequential(\n",
        "    (0): BasicBlock(\n",
        "      (conv1): Conv2d(128, 256, kernel_size=(3, 3), stride=(2, 2), padding=(1, 1), bias=False)\n",
        "      (bn1): BatchNorm2d(256, eps=1e-05, momentum=0.1, affine=True, track_running_stats=True)\n",
        "      (relu): ReLU(inplace=True)\n",
        "      (conv2): Conv2d(256, 256, kernel_size=(3, 3), stride=(1, 1), padding=(1, 1), bias=False)\n",
        "      (bn2): BatchNorm2d(256, eps=1e-05, momentum=0.1, affine=True, track_running_stats=True)\n",
        "      (downsample): Sequential(\n",
        "        (0): Conv2d(128, 256, kernel_size=(1, 1), stride=(2, 2), bias=False)\n",
        "        (1): BatchNorm2d(256, eps=1e-05, momentum=0.1, affine=True, track_running_stats=True)\n",
        "      )\n",
        "    )\n",
        "    (1): BasicBlock(\n",
        "      (conv1): Conv2d(256, 256, kernel_size=(3, 3), stride=(1, 1), padding=(1, 1), bias=False)\n",
        "      (bn1): BatchNorm2d(256, eps=1e-05, momentum=0.1, affine=True, track_running_stats=True)\n",
        "      (relu): ReLU(inplace=True)\n",
        "      (conv2): Conv2d(256, 256, kernel_size=(3, 3), stride=(1, 1), padding=(1, 1), bias=False)\n",
        "      (bn2): BatchNorm2d(256, eps=1e-05, momentum=0.1, affine=True, track_running_stats=True)\n",
        "    )\n",
        "  )\n",
        "  (layer4): Sequential(\n",
        "    (0): BasicBlock(\n",
        "      (conv1): Conv2d(256, 512, kernel_size=(3, 3), stride=(2, 2), padding=(1, 1), bias=False)\n",
        "      (bn1): BatchNorm2d(512, eps=1e-05, momentum=0.1, affine=True, track_running_stats=True)\n",
        "      (relu): ReLU(inplace=True)\n",
        "      (conv2): Conv2d(512, 512, kernel_size=(3, 3), stride=(1, 1), padding=(1, 1), bias=False)\n",
        "      (bn2): BatchNorm2d(512, eps=1e-05, momentum=0.1, affine=True, track_running_stats=True)\n",
        "      (downsample): Sequential(\n",
        "        (0): Conv2d(256, 512, kernel_size=(1, 1), stride=(2, 2), bias=False)\n",
        "        (1): BatchNorm2d(512, eps=1e-05, momentum=0.1, affine=True, track_running_stats=True)\n",
        "      )\n",
        "    )\n",
        "    (1): BasicBlock(\n",
        "      (conv1): Conv2d(512, 512, kernel_size=(3, 3), stride=(1, 1), padding=(1, 1), bias=False)\n",
        "      (bn1): BatchNorm2d(512, eps=1e-05, momentum=0.1, affine=True, track_running_stats=True)\n",
        "      (relu): ReLU(inplace=True)\n",
        "      (conv2): Conv2d(512, 512, kernel_size=(3, 3), stride=(1, 1), padding=(1, 1), bias=False)\n",
        "      (bn2): BatchNorm2d(512, eps=1e-05, momentum=0.1, affine=True, track_running_stats=True)\n",
        "    )\n",
        "  )\n",
        "  (avgpool): AdaptiveAvgPool2d(output_size=(1, 1))\n",
        "  (fc): Linear(in_features=512, out_features=82, bias=True)\n",
        ")\n"
       ]
      }
     ],
     "prompt_number": 16
    },
    {
     "cell_type": "code",
     "collapsed": false,
     "input": [
      "# Takes in histories object which is a tuple of length 4\n",
      "# Shows the variations of lossses and accuracies over epochs\n",
      "def plot_histories(histories):\n",
      "    train_loss_history, val_loss_history, train_acc_history, val_acc_history = histories\n",
      "\n",
      "    epochs = range(1, len(train_loss_history) + 1)\n",
      "\n",
      "    plt.plot(epochs, train_acc_history, 'r', label='Training acc')\n",
      "    plt.plot(epochs, val_acc_history, 'b', label='Validation acc')\n",
      "    plt.title('Training and validation accuracy')\n",
      "    plt.legend()\n",
      "\n",
      "    plt.figure()\n",
      "\n",
      "    plt.plot(epochs, train_loss_history, 'r', label='Training loss')\n",
      "    plt.plot(epochs, val_loss_history, 'b', label='Validation loss')\n",
      "    plt.title('Training and validation loss')\n",
      "    plt.legend()\n",
      "\n",
      "    plt.show()"
     ],
     "language": "python",
     "metadata": {
      "id": "8xh0srlcB2Ze"
     },
     "outputs": [],
     "prompt_number": 17
    },
    {
     "cell_type": "code",
     "collapsed": false,
     "input": [
      "plot_histories(histories)\n"
     ],
     "language": "python",
     "metadata": {
      "colab": {
       "base_uri": "https://localhost:8080/",
       "height": 566
      },
      "id": "5GFFNlto-5AI",
      "outputId": "bd79f9dd-f878-4b91-e31c-c27471785560"
     },
     "outputs": [
      {
       "output_type": "display_data",
       "png": "[encoded data removed]",
       "text": [
        "<Figure size 432x288 with 1 Axes>"
       ]
      },
      {
       "output_type": "display_data",
       "png": "[encoded data removed]",
       "text": [
        "<Figure size 432x288 with 1 Axes>"
       ]
      }
     ],
     "prompt_number": 18
    },
    {
     "cell_type": "code",
     "collapsed": false,
     "input": [
      "test_model(model_ft_trained, 4)"
     ],
     "language": "python",
     "metadata": {
      "colab": {
       "base_uri": "https://localhost:8080/",
       "height": 566
      },
      "id": "qr7-XsplIxGc",
      "outputId": "4227823c-d819-4537-d1b8-ceb72ff1f412"
     },
     "outputs": [
      {
       "output_type": "stream",
       "stream": "stderr",
       "text": [
        "Clipping input data to the valid range for imshow with RGB data ([0..1] for floats or [0..255] for integers).\n"
       ]
      },
      {
       "output_type": "display_data",
       "png": "[encoded data removed]",
       "text": [
        "<Figure size 432x288 with 1 Axes>"
       ]
      },
      {
       "output_type": "stream",
       "stream": "stderr",
       "text": [
        "Clipping input data to the valid range for imshow with RGB data ([0..1] for floats or [0..255] for integers).\n"
       ]
      },
      {
       "output_type": "display_data",
       "png": "[encoded data removed]",
       "text": [
        "<Figure size 432x288 with 1 Axes>"
       ]
      },
      {
       "output_type": "stream",
       "stream": "stderr",
       "text": [
        "Clipping input data to the valid range for imshow with RGB data ([0..1] for floats or [0..255] for integers).\n"
       ]
      },
      {
       "output_type": "display_data",
       "png": "[encoded data removed]",
       "text": [
        "<Figure size 432x288 with 1 Axes>"
       ]
      },
      {
       "output_type": "stream",
       "stream": "stderr",
       "text": [
        "Clipping input data to the valid range for imshow with RGB data ([0..1] for floats or [0..255] for integers).\n"
       ]
      },
      {
       "output_type": "display_data",
       "png": "[encoded data removed]",
       "text": [
        "<Figure size 432x288 with 1 Axes>"
       ]
      },
      {
       "output_type": "stream",
       "stream": "stdout",
       "text": [
        "Accuracy on test images: 25 %\n"
       ]
      }
     ],
     "prompt_number": 19
    },
    {
     "cell_type": "code",
     "collapsed": false,
     "input": [],
     "language": "python",
     "metadata": {},
     "outputs": [],
     "prompt_number": 20
    }
   ],
   "metadata": {}
  }
 ]
}
